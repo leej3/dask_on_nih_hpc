{
 "cells": [
  {
   "cell_type": "markdown",
   "metadata": {},
   "source": [
    "These are instruction to get dask working in an adaptive manner on NIH HPC."
   ]
  },
  {
   "cell_type": "markdown",
   "metadata": {},
   "source": [
    "# Setup"
   ]
  },
  {
   "cell_type": "markdown",
   "metadata": {},
   "source": [
    "Create an environment that has dask. If you haven't setup conda to create new environments on the cluster follow the instructions on the NIH hpc docs or [here](https://github.com/leej3/notebooks_on_hpc/blob/master/notebooks_on_hpc.ipynb)"
   ]
  },
  {
   "cell_type": "markdown",
   "metadata": {},
   "source": [
    "Using conda to create the appropriate environent:"
   ]
  },
  {
   "cell_type": "markdown",
   "metadata": {},
   "source": [
    "```bash\n",
    "module load Anaconda\n",
    "conda create -y -c conda-forge -n dask python=3 dask\n",
    "source activate dask\n",
    "```"
   ]
  },
  {
   "cell_type": "markdown",
   "metadata": {},
   "source": [
    "For now the required changes are not part of the codebase but will be soon and the dask-jobqueue package will be installable directly from pip:"
   ]
  },
  {
   "cell_type": "markdown",
   "metadata": {},
   "source": [
    "```bash\n",
    "pip install -e \\\n",
    "git+https://github.com/guillaumeeb/dask-jobqueue.git@f0bb957d6b350561f3a0998d62a313250df8625b#egg=dask_jobqueue\n",
    "\n",
    "```"
   ]
  },
  {
   "cell_type": "markdown",
   "metadata": {},
   "source": [
    "Connect to the hpc and request an interactive node. From there:"
   ]
  },
  {
   "cell_type": "markdown",
   "metadata": {},
   "source": [
    "```bash\n",
    "source activate dask\n",
    "python\n",
    "```"
   ]
  },
  {
   "cell_type": "markdown",
   "metadata": {},
   "source": [
    "# A quick demo"
   ]
  },
  {
   "cell_type": "markdown",
   "metadata": {},
   "source": [
    "A simple demonstration of setting up a scalable cluster can be run by executing the following commands:"
   ]
  },
  {
   "cell_type": "markdown",
   "metadata": {},
   "source": [
    "```python\n",
    "from dask_jobqueue import SLURMCluster\n",
    "\n",
    "# setup a scheduler. the cluster object will manage this It's important to constrain the workers to ones that default to the same networking. We can't mix infiniband with 10g ethernet nodes. The constraint argument to sbatch allows us to specify the ethernet nodes\n",
    "cluster = SLURMCluster(\n",
    "    queue='quick',\n",
    "    memory =  \"12g\",\n",
    "    processes=1,\n",
    "    threads = 4,\n",
    "    job_extra = ['--constraint=10g'] )\n",
    "\n",
    "\n",
    "# start two workers\n",
    "cluster.start_workers(2)\n",
    "\n",
    "\n",
    "# Create a Client object to use the cluster we set up\n",
    "from dask.distributed import Client\n",
    "c = Client(cluster)\n",
    "\n",
    "# Lets use the cluster we setup using dask delayed\n",
    "from dask import delayed\n",
    "import time\n",
    "\n",
    "def inc(x):\n",
    "    import time\n",
    "    time.sleep(5)\n",
    "    return x + 1\n",
    "\n",
    "def dec(x):\n",
    "    import time\n",
    "    time.sleep(3)\n",
    "    return x - 1\n",
    "\n",
    "def add(x, y):\n",
    "    import time\n",
    "    time.sleep(7)\n",
    "    return x + y\n",
    "\n",
    "x = delayed(inc)(1)\n",
    "y = delayed(dec)(2)\n",
    "total = delayed(add)(x, y)\n",
    "\n",
    "# The following command executes the task graph that\n",
    "# total represents. This is non-blocking. We can continue\n",
    "# our python session. Whenever we query the fut object\n",
    "# we will be informed of its status.\n",
    "fut = c.compute(total)\n",
    "\n",
    "# This is a blocking call and will return the results.\n",
    "# We could run this immediately or wait until fut shows\n",
    "# that the computation is finished.\n",
    "c.gather(fut)\n",
    "```"
   ]
  },
  {
   "cell_type": "markdown",
   "metadata": {},
   "source": [
    "If at some point we need more compute we can scale our pool of workers easily:"
   ]
  },
  {
   "cell_type": "markdown",
   "metadata": {},
   "source": [
    "```python\n",
    "c.adapt()\n",
    "```"
   ]
  },
  {
   "cell_type": "markdown",
   "metadata": {},
   "source": [
    "# More? "
   ]
  },
  {
   "cell_type": "markdown",
   "metadata": {},
   "source": [
    "Dask tutorials can be found [here](https://github.com/dask/dask-tutorial)"
   ]
  }
 ],
 "metadata": {
  "language_info": {
   "name": "python",
   "pygments_lexer": "ipython3"
  }
 },
 "nbformat": 4,
 "nbformat_minor": 2
}
